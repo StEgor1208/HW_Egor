{
  "nbformat": 4,
  "nbformat_minor": 0,
  "metadata": {
    "colab": {
      "provenance": []
    },
    "kernelspec": {
      "name": "python3",
      "display_name": "Python 3"
    },
    "language_info": {
      "name": "python"
    }
  },
  "cells": [
    {
      "cell_type": "code",
      "execution_count": 1,
      "metadata": {
        "colab": {
          "base_uri": "https://localhost:8080/"
        },
        "id": "RJ9YK4UXYcBd",
        "outputId": "0aa8e9f4-0d78-4422-dfac-63f08752f10d"
      },
      "outputs": [
        {
          "output_type": "stream",
          "name": "stdout",
          "text": [
            "Batch 1 has been crushed.\n",
            "Filter B used during cyanisation of batch 1. Wear level: 16.098%.\n",
            "Batch 1 has been successfully processed. Contamination level: 10.0\n",
            "Batch 2 has been crushed.\n",
            "Filter B used during cyanisation of batch 2. Wear level: 32.196%.\n",
            "Batch 2 has been successfully processed. Contamination level: 10.0\n"
          ]
        }
      ],
      "source": [
        "class OreBatch:\n",
        "    def __init__(self, batch_id):\n",
        "        self.batch_id = batch_id\n",
        "        self.fraction = \"Whole piece.\"\n",
        "        self.cyanide_concentration = 0.0\n",
        "        self.cyanide_purity = 0.0\n",
        "        self.catalyst = None\n",
        "        self.catalyst_concentration = 0.0\n",
        "        self.catalyst_purity = 0.0\n",
        "        self.filter_type = None\n",
        "        self.contamination_level = 0.0\n",
        "\n",
        "class Crusher:\n",
        "    def process(self, batch):\n",
        "        batch.fraction = \"Crushed.\"\n",
        "        print(f\"Batch {batch.batch_id} has been crushed.\")\n",
        "\n",
        "class CyanidationTank:\n",
        "    def process(self, batch, cyanide_concentration, cyanide_purity, catalyst, catalyst_concentration, catalyst_purity):\n",
        "        batch.catalyst = catalyst\n",
        "        batch.catalyst_concentration = catalyst_concentration\n",
        "        batch.catalyst_purity = catalyst_purity\n",
        "        batch.cyanide_concentration = cyanide_concentration\n",
        "        batch.cyanide_purity = cyanide_purity\n",
        "\n",
        "        # проверки\n",
        "        if batch.catalyst != \"(Fe(SO4)3)\":\n",
        "            print(f\"Catalyst used during cyanisation of {batch.batch_id} is not (Fe(SO4)3)!\")\n",
        "        if batch.cyanide_concentration < 50 or batch.cyanide_concentration > 100:\n",
        "            print(f\"Batch {batch.batch_id} was processed with cyanide of abnormal concentration!\")\n",
        "        if batch.cyanide_purity > 1:\n",
        "            print(f\"Batch {batch.batch_id} was processed with cyanide of abnormal purity!\")\n",
        "\n",
        "class Filter:\n",
        "    def __init__(self, filter_type):\n",
        "        self.type = filter_type\n",
        "        self.wear_level = 0.0\n",
        "\n",
        "    def use(self, batch):\n",
        "        # эффект концентрации и чистоты катализатора на износ фильтра\n",
        "        wear_increase = 10 + ((batch.catalyst_concentration + batch.catalyst_purity) / 10)\n",
        "        self.wear_level += wear_increase\n",
        "        batch.filter_type = self.type\n",
        "\n",
        "        print(f\"Filter {batch.filter_type} used during cyanisation of batch {batch.batch_id}. Wear level: {self.wear_level}%.\")\n",
        "\n",
        "        # влияние типа фильтра на загрязнение батча\n",
        "        if self.type == \"A\":\n",
        "            batch.contamination_level += 5\n",
        "        elif self.type == \"B\":\n",
        "            batch.contamination_level += 10\n",
        "        # смена фильтра при износе >= 80\n",
        "        if self.wear_level >= 80:\n",
        "            self.replace()\n",
        "\n",
        "        print(f\"Batch {batch.batch_id} has been successfully processed. Contamination level: {batch.contamination_level}\")\n",
        "\n",
        "    def replace(self):\n",
        "        self.wear_level = 0.0\n",
        "        print(f\"Filter {self.type} has been replaced.\")\n",
        "\n",
        "\"\"\"\"\n",
        "TEST CASE\n",
        "\n",
        "tank = CyanidationTank()\n",
        "crusher = Crusher()\n",
        "filter_system = Filter(\"B\")\n",
        "\n",
        "batch = OreBatch(1)\n",
        "crusher.process(batch)\n",
        "tank.process(batch, cyanide_concentration=75.0, cyanide_purity=0.95,\n",
        "             catalyst=\"(Fe(SO4)3)\", catalyst_concentration=60.0, catalyst_purity=0.98)\n",
        "filter_system.use(batch)\n",
        "\n",
        "\n",
        "batch = OreBatch(2)\n",
        "crusher.process(batch)\n",
        "tank.process(batch, cyanide_concentration=75.0, cyanide_purity=0.95,\n",
        "             catalyst=\"(Fe(SO4)3)\", catalyst_concentration=60.0, catalyst_purity=0.98)\n",
        "filter_system.use(batch)\n",
        "\n",
        "\"\"\""
      ]
    }
  ]
}